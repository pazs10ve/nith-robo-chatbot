{
 "cells": [
  {
   "cell_type": "code",
   "execution_count": 1,
   "metadata": {},
   "outputs": [
    {
     "name": "stdout",
     "output_type": "stream",
     "text": [
      "Requirement already satisfied: langchain_community in c:\\users\\sharm\\python projects\\ml projects\\cancer instance segmentation\\.venv\\lib\\site-packages (0.2.12)\n",
      "Requirement already satisfied: PyYAML>=5.3 in c:\\users\\sharm\\python projects\\ml projects\\cancer instance segmentation\\.venv\\lib\\site-packages (from langchain_community) (6.0.1)\n",
      "Requirement already satisfied: SQLAlchemy<3,>=1.4 in c:\\users\\sharm\\python projects\\ml projects\\cancer instance segmentation\\.venv\\lib\\site-packages (from langchain_community) (2.0.32)\n",
      "Requirement already satisfied: aiohttp<4.0.0,>=3.8.3 in c:\\users\\sharm\\python projects\\ml projects\\cancer instance segmentation\\.venv\\lib\\site-packages (from langchain_community) (3.10.3)\n",
      "Requirement already satisfied: dataclasses-json<0.7,>=0.5.7 in c:\\users\\sharm\\python projects\\ml projects\\cancer instance segmentation\\.venv\\lib\\site-packages (from langchain_community) (0.6.7)\n",
      "Requirement already satisfied: langchain<0.3.0,>=0.2.13 in c:\\users\\sharm\\python projects\\ml projects\\cancer instance segmentation\\.venv\\lib\\site-packages (from langchain_community) (0.2.14)\n",
      "Requirement already satisfied: langchain-core<0.3.0,>=0.2.30 in c:\\users\\sharm\\python projects\\ml projects\\cancer instance segmentation\\.venv\\lib\\site-packages (from langchain_community) (0.2.33)\n",
      "Requirement already satisfied: langsmith<0.2.0,>=0.1.0 in c:\\users\\sharm\\python projects\\ml projects\\cancer instance segmentation\\.venv\\lib\\site-packages (from langchain_community) (0.1.99)\n",
      "Requirement already satisfied: numpy<2.0.0,>=1.26.0 in c:\\users\\sharm\\python projects\\ml projects\\cancer instance segmentation\\.venv\\lib\\site-packages (from langchain_community) (1.26.4)\n",
      "Requirement already satisfied: requests<3,>=2 in c:\\users\\sharm\\python projects\\ml projects\\cancer instance segmentation\\.venv\\lib\\site-packages (from langchain_community) (2.32.3)\n",
      "Requirement already satisfied: tenacity!=8.4.0,<9.0.0,>=8.1.0 in c:\\users\\sharm\\python projects\\ml projects\\cancer instance segmentation\\.venv\\lib\\site-packages (from langchain_community) (8.5.0)\n",
      "Requirement already satisfied: aiohappyeyeballs>=2.3.0 in c:\\users\\sharm\\python projects\\ml projects\\cancer instance segmentation\\.venv\\lib\\site-packages (from aiohttp<4.0.0,>=3.8.3->langchain_community) (2.3.6)\n",
      "Requirement already satisfied: aiosignal>=1.1.2 in c:\\users\\sharm\\python projects\\ml projects\\cancer instance segmentation\\.venv\\lib\\site-packages (from aiohttp<4.0.0,>=3.8.3->langchain_community) (1.3.1)\n",
      "Requirement already satisfied: attrs>=17.3.0 in c:\\users\\sharm\\python projects\\ml projects\\cancer instance segmentation\\.venv\\lib\\site-packages (from aiohttp<4.0.0,>=3.8.3->langchain_community) (24.2.0)\n",
      "Requirement already satisfied: frozenlist>=1.1.1 in c:\\users\\sharm\\python projects\\ml projects\\cancer instance segmentation\\.venv\\lib\\site-packages (from aiohttp<4.0.0,>=3.8.3->langchain_community) (1.4.1)\n",
      "Requirement already satisfied: multidict<7.0,>=4.5 in c:\\users\\sharm\\python projects\\ml projects\\cancer instance segmentation\\.venv\\lib\\site-packages (from aiohttp<4.0.0,>=3.8.3->langchain_community) (6.0.5)\n",
      "Requirement already satisfied: yarl<2.0,>=1.0 in c:\\users\\sharm\\python projects\\ml projects\\cancer instance segmentation\\.venv\\lib\\site-packages (from aiohttp<4.0.0,>=3.8.3->langchain_community) (1.9.4)\n",
      "Requirement already satisfied: marshmallow<4.0.0,>=3.18.0 in c:\\users\\sharm\\python projects\\ml projects\\cancer instance segmentation\\.venv\\lib\\site-packages (from dataclasses-json<0.7,>=0.5.7->langchain_community) (3.21.3)\n",
      "Requirement already satisfied: typing-inspect<1,>=0.4.0 in c:\\users\\sharm\\python projects\\ml projects\\cancer instance segmentation\\.venv\\lib\\site-packages (from dataclasses-json<0.7,>=0.5.7->langchain_community) (0.9.0)\n",
      "Requirement already satisfied: langchain-text-splitters<0.3.0,>=0.2.0 in c:\\users\\sharm\\python projects\\ml projects\\cancer instance segmentation\\.venv\\lib\\site-packages (from langchain<0.3.0,>=0.2.13->langchain_community) (0.2.2)\n",
      "Requirement already satisfied: pydantic<3,>=1 in c:\\users\\sharm\\python projects\\ml projects\\cancer instance segmentation\\.venv\\lib\\site-packages (from langchain<0.3.0,>=0.2.13->langchain_community) (2.8.2)\n",
      "Requirement already satisfied: jsonpatch<2.0,>=1.33 in c:\\users\\sharm\\python projects\\ml projects\\cancer instance segmentation\\.venv\\lib\\site-packages (from langchain-core<0.3.0,>=0.2.30->langchain_community) (1.33)\n",
      "Requirement already satisfied: packaging<25,>=23.2 in c:\\users\\sharm\\python projects\\ml projects\\cancer instance segmentation\\.venv\\lib\\site-packages (from langchain-core<0.3.0,>=0.2.30->langchain_community) (24.1)\n",
      "Requirement already satisfied: typing-extensions>=4.7 in c:\\users\\sharm\\python projects\\ml projects\\cancer instance segmentation\\.venv\\lib\\site-packages (from langchain-core<0.3.0,>=0.2.30->langchain_community) (4.12.2)\n",
      "Requirement already satisfied: orjson<4.0.0,>=3.9.14 in c:\\users\\sharm\\python projects\\ml projects\\cancer instance segmentation\\.venv\\lib\\site-packages (from langsmith<0.2.0,>=0.1.0->langchain_community) (3.10.7)\n",
      "Requirement already satisfied: charset-normalizer<4,>=2 in c:\\users\\sharm\\python projects\\ml projects\\cancer instance segmentation\\.venv\\lib\\site-packages (from requests<3,>=2->langchain_community) (3.3.2)\n",
      "Requirement already satisfied: idna<4,>=2.5 in c:\\users\\sharm\\python projects\\ml projects\\cancer instance segmentation\\.venv\\lib\\site-packages (from requests<3,>=2->langchain_community) (3.7)\n",
      "Requirement already satisfied: urllib3<3,>=1.21.1 in c:\\users\\sharm\\python projects\\ml projects\\cancer instance segmentation\\.venv\\lib\\site-packages (from requests<3,>=2->langchain_community) (2.2.2)\n",
      "Requirement already satisfied: certifi>=2017.4.17 in c:\\users\\sharm\\python projects\\ml projects\\cancer instance segmentation\\.venv\\lib\\site-packages (from requests<3,>=2->langchain_community) (2024.7.4)\n",
      "Requirement already satisfied: greenlet!=0.4.17 in c:\\users\\sharm\\python projects\\ml projects\\cancer instance segmentation\\.venv\\lib\\site-packages (from SQLAlchemy<3,>=1.4->langchain_community) (3.0.3)\n",
      "Requirement already satisfied: jsonpointer>=1.9 in c:\\users\\sharm\\python projects\\ml projects\\cancer instance segmentation\\.venv\\lib\\site-packages (from jsonpatch<2.0,>=1.33->langchain-core<0.3.0,>=0.2.30->langchain_community) (3.0.0)\n",
      "Requirement already satisfied: annotated-types>=0.4.0 in c:\\users\\sharm\\python projects\\ml projects\\cancer instance segmentation\\.venv\\lib\\site-packages (from pydantic<3,>=1->langchain<0.3.0,>=0.2.13->langchain_community) (0.7.0)\n",
      "Requirement already satisfied: pydantic-core==2.20.1 in c:\\users\\sharm\\python projects\\ml projects\\cancer instance segmentation\\.venv\\lib\\site-packages (from pydantic<3,>=1->langchain<0.3.0,>=0.2.13->langchain_community) (2.20.1)\n",
      "Requirement already satisfied: mypy-extensions>=0.3.0 in c:\\users\\sharm\\python projects\\ml projects\\cancer instance segmentation\\.venv\\lib\\site-packages (from typing-inspect<1,>=0.4.0->dataclasses-json<0.7,>=0.5.7->langchain_community) (1.0.0)\n"
     ]
    }
   ],
   "source": [
    "! pip install langchain_community"
   ]
  },
  {
   "cell_type": "code",
   "execution_count": 2,
   "metadata": {},
   "outputs": [],
   "source": [
    "## Pdf reader\n",
    "from langchain_community.document_loaders import PyPDFLoader\n",
    "loader=PyPDFLoader(r'C:\\Users\\sharm\\Python Projects\\ML Projects\\Chatbot Robosoc\\robo.pdf')\n",
    "docs=loader.load()"
   ]
  },
  {
   "cell_type": "code",
   "execution_count": 3,
   "metadata": {},
   "outputs": [
    {
     "name": "stdout",
     "output_type": "stream",
     "text": [
      "Requirement already satisfied: pypdf in c:\\users\\sharm\\python projects\\ml projects\\cancer instance segmentation\\.venv\\lib\\site-packages (4.3.1)\n"
     ]
    }
   ],
   "source": [
    "! pip install pypdf"
   ]
  },
  {
   "cell_type": "code",
   "execution_count": 4,
   "metadata": {},
   "outputs": [
    {
     "data": {
      "text/plain": [
       "[Document(metadata={'source': 'C:\\\\Users\\\\sharm\\\\Python Projects\\\\ML Projects\\\\Chatbot Robosoc\\\\robo.pdf', 'page': 0}, page_content='Robotics\\nSociety\\nNITH\\n-\\nInformation\\nDocument\\n1.\\nIntroduction\\nThis\\ndocument\\nprovides\\ndetailed\\ninformation\\nabout\\nthe\\nsociety,\\nincluding\\nits\\nhistory,\\nleadership,\\nongoing\\nprojects\\nand\\nevents.\\nThis\\ninformation\\nwill\\nbe\\nused\\nto\\ntrain\\nour\\nchatbot,\\nmaking\\nit\\nan\\neffective\\ntool\\nfor\\nboth\\nmembers\\nand\\nvisitors.\\n2.\\nSociety\\nOverview\\n2.1.\\nFounding\\nDate\\nFounded\\n:\\n2.2.\\nMission\\nand\\nVision\\nMission\\n:\\nBuild\\nand\\nsustain\\na\\nculture\\nto\\nbe\\nself-reliant\\nto\\naccomplish\\nour\\nvision,\\nby\\nemphasizing\\nthe\\ndevelopment\\nof\\nindividual\\nquality.\\nVision\\n:\\nTo\\nbe\\na\\nluminary\\nof\\nthe\\nIndian\\nsociety\\nin\\nthe\\nfield\\nof\\nRobotics.\\n2.3.\\nHistory\\nBrief\\nHistory\\n:\\nRoboSoc\\nNITH\\nwas\\nco-founded\\nby\\nKashish\\nVerma\\nand\\nthe\\nlate\\nLamyanba\\nHeisnam.\\nIt\\naims\\nto\\ndevelop\\na\\nstrong\\nculture\\nof\\nrobotics\\nwithin\\nthe\\nNIT\\nHamirpur\\ncommunity.\\n3.\\nLeadership\\n3.1.\\nPresidents\\nYear\\nPresident\\nName\\n2024\\nAakash\\nTiwari\\n2023\\nPrakul\\n2022'),\n",
       " Document(metadata={'source': 'C:\\\\Users\\\\sharm\\\\Python Projects\\\\ML Projects\\\\Chatbot Robosoc\\\\robo.pdf', 'page': 1}, page_content='3.2.\\nVice\\nPresidents\\nYear\\nVice\\nPresident\\nName\\n2024\\nArjun\\nThakur\\n2023\\nAbhishek\\nKumar\\n2022\\n4.\\nBoard\\nMembers\\nand\\nTheir\\nRoles\\n4.1.\\n2024\\nRole\\nMember\\nName\\nPresident\\nAakash\\nTiwari\\nVice\\nPresident\\nArjun\\nThakur\\nGeneral\\nSecretary\\n(Project)\\nMilind\\nGupta\\nGeneral\\nSecretary\\n(Competitions)\\nVarun\\nJain\\nTreasurer\\nSarika\\nLakhotia\\nTechnical\\nHead\\n(Programming)\\nAkhil\\nSharma\\nTechnical\\nHead\\n(Programming)\\nVanshika\\nGyanchandani\\nCore\\nCoordinator\\nMahima\\nGaur\\nCore\\nCoordinator\\nAkansha\\nSharma\\nCore\\nCoordinator\\nShriayansh\\nSingh\\nChaihan\\nCore\\nCoordinator\\nGautam\\nJangir\\nCore\\nCoordinator\\nUrvashi\\nLamba\\nCore\\nCoordinator\\nHarsh\\nSharma'),\n",
       " Document(metadata={'source': 'C:\\\\Users\\\\sharm\\\\Python Projects\\\\ML Projects\\\\Chatbot Robosoc\\\\robo.pdf', 'page': 2}, page_content='4.2.\\n2023\\nRole\\nMember\\nName\\nPresident\\nAakash\\nTiwari\\nVice\\nPresident\\nArjun\\nThakur\\nGeneral\\nSecretary\\n(Project)\\nMilind\\nGupta\\nGeneral\\nSecretary\\n(Competitions)\\nVarun\\nJain\\nTreasurer\\nSarika\\nLakhotia\\nTechnical\\nHead\\n(Programming)\\nAkhil\\nSharma\\nTechnical\\nHead\\n(Programming)\\nVanshika\\nGyanchandani\\nCore\\nCoordinator\\nMahima\\nGaur\\nCore\\nCoordinator\\nAkansha\\nSharma\\nCore\\nCoordinator\\nShriayansh\\nSingh\\nChaihan\\nCore\\nCoordinator\\nGautam\\nJangir\\nCore\\nCoordinator\\nUrvashi\\nLamba\\nCore\\nCoordinator\\nHarsh\\nSharma\\n5.\\nExecutive\\nMembers\\n5.1.\\n2024\\nExecutives\\nName\\nRoll\\nNumber\\nAshish\\nRanjan\\n23BME025\\nKartik\\nSharma\\n23BCH032\\nJai\\nKrishan\\nSharma\\n23BCS041\\nManya\\nSingh\\nLalhall\\n23BCS060\\nNikit\\nBhari\\n23BCS069'),\n",
       " Document(metadata={'source': 'C:\\\\Users\\\\sharm\\\\Python Projects\\\\ML Projects\\\\Chatbot Robosoc\\\\robo.pdf', 'page': 3}, page_content='Prakhar\\nPandey\\n23BCS077\\nPunitha\\nNarasegowda\\n23BCS081\\nRishabh\\nSharma\\n23BCS088\\nSabhya\\nDhiman\\n23BCS094\\nTanishk\\nSaini\\n23BCS114\\nAdarsh\\nKumar\\nUpadhya\\n23BCE003\\nAkshat\\nSharma\\n23BCE007\\nNamish\\n23BEC065\\nNimish\\nSaxena\\n23BEC068\\nShubham\\nAtri\\n23BEC096\\nVedansh\\n23BEE118\\nVaibhav\\nShukla\\n23BEE114\\nAreen\\nSharma\\n23BCE025\\nChirayu\\nPandey\\n23BME033\\nDisha\\nSachan\\n23BME053\\nKhushi\\nPandey\\n23BME059\\nMohit\\nSharma\\n23BMS020\\nRobin\\nRawat\\n23BMS029\\nDivye\\nVaibhav\\nMishra\\n23DCS007\\nSarthak\\nKatiyar\\n23DCS024\\n5.2.\\n2023\\nExecutives\\nName\\nRoll\\nNumber\\nAnuj\\nNautiyal\\n22BME093\\nPutul\\nSingh\\n22BME080\\nSambhav\\nParmar\\n22BME097'),\n",
       " Document(metadata={'source': 'C:\\\\Users\\\\sharm\\\\Python Projects\\\\ML Projects\\\\Chatbot Robosoc\\\\robo.pdf', 'page': 4}, page_content='Shivam\\nUppal\\n22BME103\\nSaeesh\\nGhoghale\\n22BME093\\nAashish\\nKumar\\n22BEE037\\nAkhil\\nSharma\\n22BEE015\\nUtkarsh\\nAggraval\\n22BEE116\\nHarpreet\\nKaur\\n22BCE040\\nRitwiz\\nSingh\\n22BCS047\\nSarthak\\nChaudhary\\n22BCS090\\nYashita\\nArya\\n22BCS120\\nSumit\\nKumar\\n22DCS028\\nDeepti\\n22BEE054\\nAvisheet\\nSrivastava\\n22DCS005\\nSanya\\nGupta\\n22DCS024\\nMayan\\nYadav\\n22BEC060\\nAnish\\nKhan\\n22BEC028\\nAnshuman\\n22BEC024\\nAnup\\nKumar\\n22BEC025\\nKomal\\n22BEC045\\nSakshi\\nMeena\\n22BEC084\\nDishant\\nGupta\\n22BPH016\\nAkansha\\nVerma\\n22BPH006\\nNamrata\\n22BCH034\\nNitya\\nPal\\n22BCH036\\nKshitij\\nPriyank\\n22BME048'),\n",
       " Document(metadata={'source': 'C:\\\\Users\\\\sharm\\\\Python Projects\\\\ML Projects\\\\Chatbot Robosoc\\\\robo.pdf', 'page': 5}, page_content='Purushottam\\nSingh\\n22BME078\\n5.3.\\n2023\\nVolunteers\\nName\\nRoll\\nNumber\\nHarpreet\\nKour\\n22BCE040\\nAditya\\nBhardwaj\\n22BCH002\\nSania\\nArora\\n22BCH055\\nAbhishek\\nGodara\\n22BCS007\\nKhushi\\nSingh\\n22BCS056\\nKushal\\nKesharwani\\n22BCS057\\nPrithika\\nDatta\\n22BCS078\\nRitwiz\\nSingh\\n22BCS087\\nYashita\\nArya\\n22BCS120\\nGaurika\\nSharma\\n22BCE040\\nMayan\\nYadav\\n22BEC060\\nYogesh\\nDogiwal\\n22BEC116\\nAnahita\\nSharma\\n22BEE017\\nAshish\\nKumar\\n22BEE037\\nAvani\\nSrivastava\\n22BEE041\\nAnuj\\nNautiyal\\n22BME024\\nKshitij\\nPriyank\\n22BME056\\nParas\\nSondhi\\n22BME074\\nPurushottam\\nSingh\\n22BME078\\nSaeesh\\nGhoghale\\n22BME093\\nAnshul\\nChoudhary\\n22DCS003'),\n",
       " Document(metadata={'source': 'C:\\\\Users\\\\sharm\\\\Python Projects\\\\ML Projects\\\\Chatbot Robosoc\\\\robo.pdf', 'page': 6}, page_content='Avisheet\\nSrivastava\\n22DCS005\\nSanya\\nGupta\\n22DCS024\\n6.\\nProjects\\n6.1.\\nRobotic\\nArm\\nDescription\\n:\\nA\\nproject\\naimed\\nat\\ndesigning\\na\\nfunctional\\nrobotic\\narm\\nwith\\nprecise\\ncontrol\\nand\\nmultiple\\ndegrees\\nof\\nfreedom.\\nStatus\\n:\\nIn\\nProgress\\n6.2.\\nAutonomous\\nUnderwater\\nVehicle\\n(AUV)\\nDescription\\n:\\nDeveloping\\nan\\nAUV\\nfor\\nunderwater\\nexploration\\nand\\ndata\\ncollection,\\nwith\\na\\nfocus\\non\\nnavigation\\nand\\nobstacle\\navoidance.\\nStatus\\n:\\nIn\\nProgress\\n6.3.\\nLine\\nFollowing\\nBot\\nDescription\\n:\\nCreating\\na\\nrobot\\ncapable\\nof\\nfollowing\\na\\npredefined\\npath\\nusing\\nsensors,\\nfocusing\\non\\nreal-time\\ndata\\nprocessing\\nand\\ncontrol\\nsystems.\\nStatus\\n:\\nCompleted\\n6.4.\\nGesture-Controlled\\nBot\\nDescription\\n:\\nA\\nrobot\\ncontrolled\\nby\\nhand\\ngestures.\\nThis\\nproject\\nfocuses\\non\\nintegrating\\nsensors\\nand\\nmachine\\nlearning\\nalgorithms\\nto\\ninterpret\\nhand\\nmovements\\nand\\ntranslate\\nthem\\ninto\\nrobotic\\nactions.\\nStatus\\n:\\nCompleted\\n6.6.\\n3D\\nScanner\\nDescription:\\nDevelopment\\nof\\nan\\naffordable,\\nhigh-resolution\\n3D\\nscanner\\nfor\\npersonal\\nuse.\\nIt\\nuses\\nline\\nlasers\\nand\\n3D\\ntriangulation\\nto\\ngenerate\\na\\npoint\\ncloud\\nfor\\ncreating\\n3D\\nmodels.\\nThe\\nscanner\\noperates\\non\\na\\nRaspberry\\nPi\\nwith\\nonboard\\nsoftware,\\nrequiring\\nno\\nadditional\\ninstallations.\\nStatus:\\nIn\\nProgress\\n6.7.\\nDriverless\\nCar\\nDescription:\\nA\\nprototype\\ndriverless\\ncar\\nthat\\ndetects\\nroads,\\nfollows\\npaths,\\nand\\nrecognizes\\ntraffic\\nsignals\\nusing\\nRaspberry\\nPi,\\ncamera,\\nand\\nultrasonic\\nsensors.\\nThe\\nproject\\nfocuses\\non\\nobject\\ndetection\\nand\\nneural\\nnetwork\\ntraining\\nusing\\nOpenCV.\\nStatus:\\nIn\\nProgress'),\n",
       " Document(metadata={'source': 'C:\\\\Users\\\\sharm\\\\Python Projects\\\\ML Projects\\\\Chatbot Robosoc\\\\robo.pdf', 'page': 7}, page_content='6.8.\\nTeleoperation\\nUsing\\nLeap\\nMotion\\nDescription:\\nDeveloping\\na\\nsystem\\nto\\nreplicate\\nhand\\ngestures\\nfor\\nteleoperation\\nusing\\nLeap\\nMotion.\\nThe\\nproject\\nincludes\\na\\nrobotic\\nhand\\ncontrolled\\nvia\\na\\nmicrocontroller,\\ntranslating\\ngestures\\ninto\\nprecise\\nmovements.\\nStatus:\\nIn\\nProgress\\n6.9.\\nVision-Based\\nPick\\nand\\nPlace\\nRobotic\\nArm\\nDescription:\\nImplementing\\na\\nvision\\nsystem\\non\\na\\nrobotic\\narm\\nto\\nrecognize\\nobjects\\nand\\nperform\\npick-and-place\\noperations\\nusing\\nOpenCV.\\nThe\\nsystem\\ncommunicates\\nobject\\npositions\\nto\\nthe\\narm\\nfor\\nexecution.\\nStatus:\\nIn\\nProgress\\n7.\\nEvents\\n7.1.\\nRobosoc\\nWorkshop\\nTitle:\\nRobosoc\\nWorkshop\\nDate:\\n[]\\nDescription:\\nThis\\nevent\\nwas\\norganized\\nfor\\nfirst-year\\nstudents\\nto\\nintroduce\\nthem\\nto\\nRobotics\\nand\\nthe\\nRobotics\\nSociety.\\nMore\\nthan\\n500\\nstudents\\nattended\\nthe\\nworkshop.\\nOutcome:\\nApproximately\\n300\\nstudents\\ncame\\nfor\\nthe\\ninterview\\nfor\\nthe\\nRobotics\\nSociety.\\n6.2.')]"
      ]
     },
     "execution_count": 4,
     "metadata": {},
     "output_type": "execute_result"
    }
   ],
   "source": [
    "docs"
   ]
  },
  {
   "cell_type": "code",
   "execution_count": 5,
   "metadata": {},
   "outputs": [],
   "source": [
    "#import torch\n",
    "#device = torch.device(\"cuda\" if torch.cuda.is_available() else \"cpu\")\n",
    "#device"
   ]
  },
  {
   "cell_type": "code",
   "execution_count": 6,
   "metadata": {},
   "outputs": [
    {
     "data": {
      "text/plain": [
       "[Document(metadata={'source': 'C:\\\\Users\\\\sharm\\\\Python Projects\\\\ML Projects\\\\Chatbot Robosoc\\\\robo.pdf', 'page': 0}, page_content='Robotics\\nSociety\\nNITH\\n-\\nInformation\\nDocument\\n1.\\nIntroduction\\nThis\\ndocument\\nprovides\\ndetailed\\ninformation\\nabout\\nthe\\nsociety,\\nincluding\\nits\\nhistory,\\nleadership,\\nongoing\\nprojects\\nand\\nevents.\\nThis\\ninformation\\nwill\\nbe\\nused\\nto\\ntrain\\nour\\nchatbot,\\nmaking\\nit\\nan\\neffective\\ntool\\nfor\\nboth\\nmembers\\nand\\nvisitors.\\n2.\\nSociety\\nOverview\\n2.1.\\nFounding\\nDate\\nFounded\\n:\\n2.2.\\nMission\\nand\\nVision\\nMission\\n:\\nBuild\\nand\\nsustain\\na\\nculture\\nto\\nbe\\nself-reliant\\nto\\naccomplish\\nour\\nvision,\\nby\\nemphasizing\\nthe\\ndevelopment\\nof\\nindividual\\nquality.\\nVision\\n:\\nTo\\nbe\\na\\nluminary\\nof\\nthe\\nIndian\\nsociety\\nin\\nthe\\nfield\\nof\\nRobotics.\\n2.3.\\nHistory\\nBrief\\nHistory\\n:\\nRoboSoc\\nNITH\\nwas\\nco-founded\\nby\\nKashish\\nVerma\\nand\\nthe\\nlate\\nLamyanba\\nHeisnam.\\nIt\\naims\\nto\\ndevelop\\na\\nstrong\\nculture\\nof\\nrobotics\\nwithin\\nthe\\nNIT\\nHamirpur\\ncommunity.\\n3.\\nLeadership\\n3.1.\\nPresidents\\nYear\\nPresident\\nName\\n2024\\nAakash\\nTiwari\\n2023\\nPrakul\\n2022'),\n",
       " Document(metadata={'source': 'C:\\\\Users\\\\sharm\\\\Python Projects\\\\ML Projects\\\\Chatbot Robosoc\\\\robo.pdf', 'page': 1}, page_content='3.2.\\nVice\\nPresidents\\nYear\\nVice\\nPresident\\nName\\n2024\\nArjun\\nThakur\\n2023\\nAbhishek\\nKumar\\n2022\\n4.\\nBoard\\nMembers\\nand\\nTheir\\nRoles\\n4.1.\\n2024\\nRole\\nMember\\nName\\nPresident\\nAakash\\nTiwari\\nVice\\nPresident\\nArjun\\nThakur\\nGeneral\\nSecretary\\n(Project)\\nMilind\\nGupta\\nGeneral\\nSecretary\\n(Competitions)\\nVarun\\nJain\\nTreasurer\\nSarika\\nLakhotia\\nTechnical\\nHead\\n(Programming)\\nAkhil\\nSharma\\nTechnical\\nHead\\n(Programming)\\nVanshika\\nGyanchandani\\nCore\\nCoordinator\\nMahima\\nGaur\\nCore\\nCoordinator\\nAkansha\\nSharma\\nCore\\nCoordinator\\nShriayansh\\nSingh\\nChaihan\\nCore\\nCoordinator\\nGautam\\nJangir\\nCore\\nCoordinator\\nUrvashi\\nLamba\\nCore\\nCoordinator\\nHarsh\\nSharma'),\n",
       " Document(metadata={'source': 'C:\\\\Users\\\\sharm\\\\Python Projects\\\\ML Projects\\\\Chatbot Robosoc\\\\robo.pdf', 'page': 2}, page_content='4.2.\\n2023\\nRole\\nMember\\nName\\nPresident\\nAakash\\nTiwari\\nVice\\nPresident\\nArjun\\nThakur\\nGeneral\\nSecretary\\n(Project)\\nMilind\\nGupta\\nGeneral\\nSecretary\\n(Competitions)\\nVarun\\nJain\\nTreasurer\\nSarika\\nLakhotia\\nTechnical\\nHead\\n(Programming)\\nAkhil\\nSharma\\nTechnical\\nHead\\n(Programming)\\nVanshika\\nGyanchandani\\nCore\\nCoordinator\\nMahima\\nGaur\\nCore\\nCoordinator\\nAkansha\\nSharma\\nCore\\nCoordinator\\nShriayansh\\nSingh\\nChaihan\\nCore\\nCoordinator\\nGautam\\nJangir\\nCore\\nCoordinator\\nUrvashi\\nLamba\\nCore\\nCoordinator\\nHarsh\\nSharma\\n5.\\nExecutive\\nMembers\\n5.1.\\n2024\\nExecutives\\nName\\nRoll\\nNumber\\nAshish\\nRanjan\\n23BME025\\nKartik\\nSharma\\n23BCH032\\nJai\\nKrishan\\nSharma\\n23BCS041\\nManya\\nSingh\\nLalhall\\n23BCS060\\nNikit\\nBhari\\n23BCS069'),\n",
       " Document(metadata={'source': 'C:\\\\Users\\\\sharm\\\\Python Projects\\\\ML Projects\\\\Chatbot Robosoc\\\\robo.pdf', 'page': 3}, page_content='Prakhar\\nPandey\\n23BCS077\\nPunitha\\nNarasegowda\\n23BCS081\\nRishabh\\nSharma\\n23BCS088\\nSabhya\\nDhiman\\n23BCS094\\nTanishk\\nSaini\\n23BCS114\\nAdarsh\\nKumar\\nUpadhya\\n23BCE003\\nAkshat\\nSharma\\n23BCE007\\nNamish\\n23BEC065\\nNimish\\nSaxena\\n23BEC068\\nShubham\\nAtri\\n23BEC096\\nVedansh\\n23BEE118\\nVaibhav\\nShukla\\n23BEE114\\nAreen\\nSharma\\n23BCE025\\nChirayu\\nPandey\\n23BME033\\nDisha\\nSachan\\n23BME053\\nKhushi\\nPandey\\n23BME059\\nMohit\\nSharma\\n23BMS020\\nRobin\\nRawat\\n23BMS029\\nDivye\\nVaibhav\\nMishra\\n23DCS007\\nSarthak\\nKatiyar\\n23DCS024\\n5.2.\\n2023\\nExecutives\\nName\\nRoll\\nNumber\\nAnuj\\nNautiyal\\n22BME093\\nPutul\\nSingh\\n22BME080\\nSambhav\\nParmar\\n22BME097'),\n",
       " Document(metadata={'source': 'C:\\\\Users\\\\sharm\\\\Python Projects\\\\ML Projects\\\\Chatbot Robosoc\\\\robo.pdf', 'page': 4}, page_content='Shivam\\nUppal\\n22BME103\\nSaeesh\\nGhoghale\\n22BME093\\nAashish\\nKumar\\n22BEE037\\nAkhil\\nSharma\\n22BEE015\\nUtkarsh\\nAggraval\\n22BEE116\\nHarpreet\\nKaur\\n22BCE040\\nRitwiz\\nSingh\\n22BCS047\\nSarthak\\nChaudhary\\n22BCS090\\nYashita\\nArya\\n22BCS120\\nSumit\\nKumar\\n22DCS028\\nDeepti\\n22BEE054\\nAvisheet\\nSrivastava\\n22DCS005\\nSanya\\nGupta\\n22DCS024\\nMayan\\nYadav\\n22BEC060\\nAnish\\nKhan\\n22BEC028\\nAnshuman\\n22BEC024\\nAnup\\nKumar\\n22BEC025\\nKomal\\n22BEC045\\nSakshi\\nMeena\\n22BEC084\\nDishant\\nGupta\\n22BPH016\\nAkansha\\nVerma\\n22BPH006\\nNamrata\\n22BCH034\\nNitya\\nPal\\n22BCH036\\nKshitij\\nPriyank\\n22BME048')]"
      ]
     },
     "execution_count": 6,
     "metadata": {},
     "output_type": "execute_result"
    }
   ],
   "source": [
    "from langchain.text_splitter import RecursiveCharacterTextSplitter\n",
    "text_splitter=RecursiveCharacterTextSplitter(chunk_size=1000,chunk_overlap=200)\n",
    "documents=text_splitter.split_documents(docs)\n",
    "documents[:5]"
   ]
  },
  {
   "cell_type": "code",
   "execution_count": 7,
   "metadata": {},
   "outputs": [
    {
     "data": {
      "text/plain": [
       "[Document(metadata={'source': 'C:\\\\Users\\\\sharm\\\\Python Projects\\\\ML Projects\\\\Chatbot Robosoc\\\\robo.pdf', 'page': 0}, page_content='Robotics\\nSociety\\nNITH\\n-\\nInformation\\nDocument\\n1.\\nIntroduction\\nThis\\ndocument\\nprovides\\ndetailed\\ninformation\\nabout\\nthe\\nsociety,\\nincluding\\nits\\nhistory,\\nleadership,\\nongoing\\nprojects\\nand\\nevents.\\nThis\\ninformation\\nwill\\nbe\\nused\\nto\\ntrain\\nour\\nchatbot,\\nmaking\\nit\\nan\\neffective\\ntool\\nfor\\nboth\\nmembers\\nand\\nvisitors.\\n2.\\nSociety\\nOverview\\n2.1.\\nFounding\\nDate\\nFounded\\n:\\n2.2.\\nMission\\nand\\nVision\\nMission\\n:\\nBuild\\nand\\nsustain\\na\\nculture\\nto\\nbe\\nself-reliant\\nto\\naccomplish\\nour\\nvision,\\nby\\nemphasizing\\nthe\\ndevelopment\\nof\\nindividual\\nquality.\\nVision\\n:\\nTo\\nbe\\na\\nluminary\\nof\\nthe\\nIndian\\nsociety\\nin\\nthe\\nfield\\nof\\nRobotics.\\n2.3.\\nHistory\\nBrief\\nHistory\\n:\\nRoboSoc\\nNITH\\nwas\\nco-founded\\nby\\nKashish\\nVerma\\nand\\nthe\\nlate\\nLamyanba\\nHeisnam.\\nIt\\naims\\nto\\ndevelop\\na\\nstrong\\nculture\\nof\\nrobotics\\nwithin\\nthe\\nNIT\\nHamirpur\\ncommunity.\\n3.\\nLeadership\\n3.1.\\nPresidents\\nYear\\nPresident\\nName\\n2024\\nAakash\\nTiwari\\n2023\\nPrakul\\n2022'),\n",
       " Document(metadata={'source': 'C:\\\\Users\\\\sharm\\\\Python Projects\\\\ML Projects\\\\Chatbot Robosoc\\\\robo.pdf', 'page': 1}, page_content='3.2.\\nVice\\nPresidents\\nYear\\nVice\\nPresident\\nName\\n2024\\nArjun\\nThakur\\n2023\\nAbhishek\\nKumar\\n2022\\n4.\\nBoard\\nMembers\\nand\\nTheir\\nRoles\\n4.1.\\n2024\\nRole\\nMember\\nName\\nPresident\\nAakash\\nTiwari\\nVice\\nPresident\\nArjun\\nThakur\\nGeneral\\nSecretary\\n(Project)\\nMilind\\nGupta\\nGeneral\\nSecretary\\n(Competitions)\\nVarun\\nJain\\nTreasurer\\nSarika\\nLakhotia\\nTechnical\\nHead\\n(Programming)\\nAkhil\\nSharma\\nTechnical\\nHead\\n(Programming)\\nVanshika\\nGyanchandani\\nCore\\nCoordinator\\nMahima\\nGaur\\nCore\\nCoordinator\\nAkansha\\nSharma\\nCore\\nCoordinator\\nShriayansh\\nSingh\\nChaihan\\nCore\\nCoordinator\\nGautam\\nJangir\\nCore\\nCoordinator\\nUrvashi\\nLamba\\nCore\\nCoordinator\\nHarsh\\nSharma'),\n",
       " Document(metadata={'source': 'C:\\\\Users\\\\sharm\\\\Python Projects\\\\ML Projects\\\\Chatbot Robosoc\\\\robo.pdf', 'page': 2}, page_content='4.2.\\n2023\\nRole\\nMember\\nName\\nPresident\\nAakash\\nTiwari\\nVice\\nPresident\\nArjun\\nThakur\\nGeneral\\nSecretary\\n(Project)\\nMilind\\nGupta\\nGeneral\\nSecretary\\n(Competitions)\\nVarun\\nJain\\nTreasurer\\nSarika\\nLakhotia\\nTechnical\\nHead\\n(Programming)\\nAkhil\\nSharma\\nTechnical\\nHead\\n(Programming)\\nVanshika\\nGyanchandani\\nCore\\nCoordinator\\nMahima\\nGaur\\nCore\\nCoordinator\\nAkansha\\nSharma\\nCore\\nCoordinator\\nShriayansh\\nSingh\\nChaihan\\nCore\\nCoordinator\\nGautam\\nJangir\\nCore\\nCoordinator\\nUrvashi\\nLamba\\nCore\\nCoordinator\\nHarsh\\nSharma\\n5.\\nExecutive\\nMembers\\n5.1.\\n2024\\nExecutives\\nName\\nRoll\\nNumber\\nAshish\\nRanjan\\n23BME025\\nKartik\\nSharma\\n23BCH032\\nJai\\nKrishan\\nSharma\\n23BCS041\\nManya\\nSingh\\nLalhall\\n23BCS060\\nNikit\\nBhari\\n23BCS069'),\n",
       " Document(metadata={'source': 'C:\\\\Users\\\\sharm\\\\Python Projects\\\\ML Projects\\\\Chatbot Robosoc\\\\robo.pdf', 'page': 3}, page_content='Prakhar\\nPandey\\n23BCS077\\nPunitha\\nNarasegowda\\n23BCS081\\nRishabh\\nSharma\\n23BCS088\\nSabhya\\nDhiman\\n23BCS094\\nTanishk\\nSaini\\n23BCS114\\nAdarsh\\nKumar\\nUpadhya\\n23BCE003\\nAkshat\\nSharma\\n23BCE007\\nNamish\\n23BEC065\\nNimish\\nSaxena\\n23BEC068\\nShubham\\nAtri\\n23BEC096\\nVedansh\\n23BEE118\\nVaibhav\\nShukla\\n23BEE114\\nAreen\\nSharma\\n23BCE025\\nChirayu\\nPandey\\n23BME033\\nDisha\\nSachan\\n23BME053\\nKhushi\\nPandey\\n23BME059\\nMohit\\nSharma\\n23BMS020\\nRobin\\nRawat\\n23BMS029\\nDivye\\nVaibhav\\nMishra\\n23DCS007\\nSarthak\\nKatiyar\\n23DCS024\\n5.2.\\n2023\\nExecutives\\nName\\nRoll\\nNumber\\nAnuj\\nNautiyal\\n22BME093\\nPutul\\nSingh\\n22BME080\\nSambhav\\nParmar\\n22BME097'),\n",
       " Document(metadata={'source': 'C:\\\\Users\\\\sharm\\\\Python Projects\\\\ML Projects\\\\Chatbot Robosoc\\\\robo.pdf', 'page': 4}, page_content='Shivam\\nUppal\\n22BME103\\nSaeesh\\nGhoghale\\n22BME093\\nAashish\\nKumar\\n22BEE037\\nAkhil\\nSharma\\n22BEE015\\nUtkarsh\\nAggraval\\n22BEE116\\nHarpreet\\nKaur\\n22BCE040\\nRitwiz\\nSingh\\n22BCS047\\nSarthak\\nChaudhary\\n22BCS090\\nYashita\\nArya\\n22BCS120\\nSumit\\nKumar\\n22DCS028\\nDeepti\\n22BEE054\\nAvisheet\\nSrivastava\\n22DCS005\\nSanya\\nGupta\\n22DCS024\\nMayan\\nYadav\\n22BEC060\\nAnish\\nKhan\\n22BEC028\\nAnshuman\\n22BEC024\\nAnup\\nKumar\\n22BEC025\\nKomal\\n22BEC045\\nSakshi\\nMeena\\n22BEC084\\nDishant\\nGupta\\n22BPH016\\nAkansha\\nVerma\\n22BPH006\\nNamrata\\n22BCH034\\nNitya\\nPal\\n22BCH036\\nKshitij\\nPriyank\\n22BME048'),\n",
       " Document(metadata={'source': 'C:\\\\Users\\\\sharm\\\\Python Projects\\\\ML Projects\\\\Chatbot Robosoc\\\\robo.pdf', 'page': 5}, page_content='Purushottam\\nSingh\\n22BME078\\n5.3.\\n2023\\nVolunteers\\nName\\nRoll\\nNumber\\nHarpreet\\nKour\\n22BCE040\\nAditya\\nBhardwaj\\n22BCH002\\nSania\\nArora\\n22BCH055\\nAbhishek\\nGodara\\n22BCS007\\nKhushi\\nSingh\\n22BCS056\\nKushal\\nKesharwani\\n22BCS057\\nPrithika\\nDatta\\n22BCS078\\nRitwiz\\nSingh\\n22BCS087\\nYashita\\nArya\\n22BCS120\\nGaurika\\nSharma\\n22BCE040\\nMayan\\nYadav\\n22BEC060\\nYogesh\\nDogiwal\\n22BEC116\\nAnahita\\nSharma\\n22BEE017\\nAshish\\nKumar\\n22BEE037\\nAvani\\nSrivastava\\n22BEE041\\nAnuj\\nNautiyal\\n22BME024\\nKshitij\\nPriyank\\n22BME056\\nParas\\nSondhi\\n22BME074\\nPurushottam\\nSingh\\n22BME078\\nSaeesh\\nGhoghale\\n22BME093\\nAnshul\\nChoudhary\\n22DCS003'),\n",
       " Document(metadata={'source': 'C:\\\\Users\\\\sharm\\\\Python Projects\\\\ML Projects\\\\Chatbot Robosoc\\\\robo.pdf', 'page': 6}, page_content='Avisheet\\nSrivastava\\n22DCS005\\nSanya\\nGupta\\n22DCS024\\n6.\\nProjects\\n6.1.\\nRobotic\\nArm\\nDescription\\n:\\nA\\nproject\\naimed\\nat\\ndesigning\\na\\nfunctional\\nrobotic\\narm\\nwith\\nprecise\\ncontrol\\nand\\nmultiple\\ndegrees\\nof\\nfreedom.\\nStatus\\n:\\nIn\\nProgress\\n6.2.\\nAutonomous\\nUnderwater\\nVehicle\\n(AUV)\\nDescription\\n:\\nDeveloping\\nan\\nAUV\\nfor\\nunderwater\\nexploration\\nand\\ndata\\ncollection,\\nwith\\na\\nfocus\\non\\nnavigation\\nand\\nobstacle\\navoidance.\\nStatus\\n:\\nIn\\nProgress\\n6.3.\\nLine\\nFollowing\\nBot\\nDescription\\n:\\nCreating\\na\\nrobot\\ncapable\\nof\\nfollowing\\na\\npredefined\\npath\\nusing\\nsensors,\\nfocusing\\non\\nreal-time\\ndata\\nprocessing\\nand\\ncontrol\\nsystems.\\nStatus\\n:\\nCompleted\\n6.4.\\nGesture-Controlled\\nBot\\nDescription\\n:\\nA\\nrobot\\ncontrolled\\nby\\nhand\\ngestures.\\nThis\\nproject\\nfocuses\\non\\nintegrating\\nsensors\\nand\\nmachine\\nlearning\\nalgorithms\\nto\\ninterpret\\nhand\\nmovements\\nand\\ntranslate\\nthem\\ninto\\nrobotic\\nactions.\\nStatus\\n:\\nCompleted\\n6.6.\\n3D\\nScanner\\nDescription:\\nDevelopment\\nof\\nan\\naffordable,\\nhigh-resolution\\n3D\\nscanner\\nfor\\npersonal\\nuse.\\nIt\\nuses\\nline\\nlasers\\nand\\n3D\\ntriangulation\\nto'),\n",
       " Document(metadata={'source': 'C:\\\\Users\\\\sharm\\\\Python Projects\\\\ML Projects\\\\Chatbot Robosoc\\\\robo.pdf', 'page': 6}, page_content='them\\ninto\\nrobotic\\nactions.\\nStatus\\n:\\nCompleted\\n6.6.\\n3D\\nScanner\\nDescription:\\nDevelopment\\nof\\nan\\naffordable,\\nhigh-resolution\\n3D\\nscanner\\nfor\\npersonal\\nuse.\\nIt\\nuses\\nline\\nlasers\\nand\\n3D\\ntriangulation\\nto\\ngenerate\\na\\npoint\\ncloud\\nfor\\ncreating\\n3D\\nmodels.\\nThe\\nscanner\\noperates\\non\\na\\nRaspberry\\nPi\\nwith\\nonboard\\nsoftware,\\nrequiring\\nno\\nadditional\\ninstallations.\\nStatus:\\nIn\\nProgress\\n6.7.\\nDriverless\\nCar\\nDescription:\\nA\\nprototype\\ndriverless\\ncar\\nthat\\ndetects\\nroads,\\nfollows\\npaths,\\nand\\nrecognizes\\ntraffic\\nsignals\\nusing\\nRaspberry\\nPi,\\ncamera,\\nand\\nultrasonic\\nsensors.\\nThe\\nproject\\nfocuses\\non\\nobject\\ndetection\\nand\\nneural\\nnetwork\\ntraining\\nusing\\nOpenCV.\\nStatus:\\nIn\\nProgress'),\n",
       " Document(metadata={'source': 'C:\\\\Users\\\\sharm\\\\Python Projects\\\\ML Projects\\\\Chatbot Robosoc\\\\robo.pdf', 'page': 7}, page_content='6.8.\\nTeleoperation\\nUsing\\nLeap\\nMotion\\nDescription:\\nDeveloping\\na\\nsystem\\nto\\nreplicate\\nhand\\ngestures\\nfor\\nteleoperation\\nusing\\nLeap\\nMotion.\\nThe\\nproject\\nincludes\\na\\nrobotic\\nhand\\ncontrolled\\nvia\\na\\nmicrocontroller,\\ntranslating\\ngestures\\ninto\\nprecise\\nmovements.\\nStatus:\\nIn\\nProgress\\n6.9.\\nVision-Based\\nPick\\nand\\nPlace\\nRobotic\\nArm\\nDescription:\\nImplementing\\na\\nvision\\nsystem\\non\\na\\nrobotic\\narm\\nto\\nrecognize\\nobjects\\nand\\nperform\\npick-and-place\\noperations\\nusing\\nOpenCV.\\nThe\\nsystem\\ncommunicates\\nobject\\npositions\\nto\\nthe\\narm\\nfor\\nexecution.\\nStatus:\\nIn\\nProgress\\n7.\\nEvents\\n7.1.\\nRobosoc\\nWorkshop\\nTitle:\\nRobosoc\\nWorkshop\\nDate:\\n[]\\nDescription:\\nThis\\nevent\\nwas\\norganized\\nfor\\nfirst-year\\nstudents\\nto\\nintroduce\\nthem\\nto\\nRobotics\\nand\\nthe\\nRobotics\\nSociety.\\nMore\\nthan\\n500\\nstudents\\nattended\\nthe\\nworkshop.\\nOutcome:\\nApproximately\\n300\\nstudents\\ncame\\nfor\\nthe\\ninterview\\nfor\\nthe\\nRobotics\\nSociety.\\n6.2.')]"
      ]
     },
     "execution_count": 7,
     "metadata": {},
     "output_type": "execute_result"
    }
   ],
   "source": [
    "documents\n"
   ]
  },
  {
   "cell_type": "code",
   "execution_count": 8,
   "metadata": {},
   "outputs": [
    {
     "name": "stderr",
     "output_type": "stream",
     "text": [
      "OllamaEmbeddings: 100%|██████████| 9/9 [00:21<00:00,  2.36s/it]\n"
     ]
    }
   ],
   "source": [
    "## Vector Embedding And Vector Store\n",
    "from langchain_community.embeddings import OllamaEmbeddings\n",
    "from langchain_community.vectorstores import FAISS\n",
    "embeddings=OllamaEmbeddings(model=\"nomic-embed-text\",show_progress=True)\n",
    "db = FAISS.from_documents(documents, embeddings)"
   ]
  },
  {
   "cell_type": "code",
   "execution_count": 9,
   "metadata": {},
   "outputs": [
    {
     "name": "stderr",
     "output_type": "stream",
     "text": [
      "OllamaEmbeddings: 100%|██████████| 1/1 [00:02<00:00,  2.15s/it]"
     ]
    },
    {
     "name": "stdout",
     "output_type": "stream",
     "text": [
      "6.8.\n",
      "Teleoperation\n",
      "Using\n",
      "Leap\n",
      "Motion\n",
      "Description:\n",
      "Developing\n",
      "a\n",
      "system\n",
      "to\n",
      "replicate\n",
      "hand\n",
      "gestures\n",
      "for\n",
      "teleoperation\n",
      "using\n",
      "Leap\n",
      "Motion.\n",
      "The\n",
      "project\n",
      "includes\n",
      "a\n",
      "robotic\n",
      "hand\n",
      "controlled\n",
      "via\n",
      "a\n",
      "microcontroller,\n",
      "translating\n",
      "gestures\n",
      "into\n",
      "precise\n",
      "movements.\n",
      "Status:\n",
      "In\n",
      "Progress\n",
      "6.9.\n",
      "Vision-Based\n",
      "Pick\n",
      "and\n",
      "Place\n",
      "Robotic\n",
      "Arm\n",
      "Description:\n",
      "Implementing\n",
      "a\n",
      "vision\n",
      "system\n",
      "on\n",
      "a\n",
      "robotic\n",
      "arm\n",
      "to\n",
      "recognize\n",
      "objects\n",
      "and\n",
      "perform\n",
      "pick-and-place\n",
      "operations\n",
      "using\n",
      "OpenCV.\n",
      "The\n",
      "system\n",
      "communicates\n",
      "object\n",
      "positions\n",
      "to\n",
      "the\n",
      "arm\n",
      "for\n",
      "execution.\n",
      "Status:\n",
      "In\n",
      "Progress\n",
      "7.\n",
      "Events\n",
      "7.1.\n",
      "Robosoc\n",
      "Workshop\n",
      "Title:\n",
      "Robosoc\n",
      "Workshop\n",
      "Date:\n",
      "[]\n",
      "Description:\n",
      "This\n",
      "event\n",
      "was\n",
      "organized\n",
      "for\n",
      "first-year\n",
      "students\n",
      "to\n",
      "introduce\n",
      "them\n",
      "to\n",
      "Robotics\n",
      "and\n",
      "the\n",
      "Robotics\n",
      "Society.\n",
      "More\n",
      "than\n",
      "500\n",
      "students\n",
      "attended\n",
      "the\n",
      "workshop.\n",
      "Outcome:\n",
      "Approximately\n",
      "300\n",
      "students\n",
      "came\n",
      "for\n",
      "the\n",
      "interview\n",
      "for\n",
      "the\n",
      "Robotics\n",
      "Society.\n",
      "6.2.\n"
     ]
    },
    {
     "name": "stderr",
     "output_type": "stream",
     "text": [
      "\n"
     ]
    }
   ],
   "source": [
    "query = \"Precision motion control\"\n",
    "retireved_results=db.similarity_search(query)\n",
    "print(retireved_results[0].page_content)"
   ]
  },
  {
   "cell_type": "code",
   "execution_count": 10,
   "metadata": {},
   "outputs": [],
   "source": [
    "from langchain.prompts import ChatPromptTemplate, PromptTemplate\n",
    "from langchain_core.output_parsers import StrOutputParser\n",
    "from langchain_community.chat_models import ChatOllama\n",
    "from langchain_core.runnables import RunnablePassthrough\n",
    "from langchain.retrievers.multi_query import MultiQueryRetriever"
   ]
  },
  {
   "cell_type": "code",
   "execution_count": 11,
   "metadata": {},
   "outputs": [],
   "source": [
    "# LLM from Ollama\n",
    "local_model = \"llama2\"\n",
    "llm = ChatOllama(model=local_model)"
   ]
  },
  {
   "cell_type": "code",
   "execution_count": 12,
   "metadata": {},
   "outputs": [],
   "source": [
    "QUERY_PROMPT = PromptTemplate(\n",
    "    input_variables=[\"question\"],\n",
    "    template=\"\"\"You are an AI language model assistant. Your task is to generate five\n",
    "    different versions of the given user question to retrieve relevant documents from\n",
    "    a vector database. By generating multiple perspectives on the user question, your\n",
    "    goal is to help the user overcome some of the limitations of the distance-based\n",
    "    similarity search. Provide these alternative questions separated by newlines.\n",
    "    Original question: {question}\"\"\",\n",
    ")"
   ]
  },
  {
   "cell_type": "code",
   "execution_count": 13,
   "metadata": {},
   "outputs": [],
   "source": [
    "retriever = MultiQueryRetriever.from_llm(\n",
    "    db.as_retriever(), \n",
    "    llm,\n",
    "    prompt=QUERY_PROMPT\n",
    ")\n",
    "\n",
    "# RAG prompt\n",
    "template = \"\"\"Answer the question based ONLY on the following context:\n",
    "{context}\n",
    "Question: {question}\n",
    "\"\"\"\n",
    "\n",
    "prompt = ChatPromptTemplate.from_template(template)"
   ]
  },
  {
   "cell_type": "code",
   "execution_count": 14,
   "metadata": {},
   "outputs": [],
   "source": [
    "chain = (\n",
    "    {\"context\": retriever, \"question\": RunnablePassthrough()}\n",
    "    | prompt\n",
    "    | llm\n",
    "    | StrOutputParser()\n",
    ")"
   ]
  },
  {
   "cell_type": "code",
   "execution_count": 15,
   "metadata": {},
   "outputs": [
    {
     "name": "stderr",
     "output_type": "stream",
     "text": [
      "OllamaEmbeddings: 100%|██████████| 1/1 [00:03<00:00,  3.67s/it]\n",
      "OllamaEmbeddings: 100%|██████████| 1/1 [00:02<00:00,  2.04s/it]\n",
      "OllamaEmbeddings: 100%|██████████| 1/1 [00:02<00:00,  2.04s/it]\n",
      "OllamaEmbeddings: 100%|██████████| 1/1 [00:02<00:00,  2.14s/it]\n",
      "OllamaEmbeddings: 100%|██████████| 1/1 [00:02<00:00,  2.27s/it]\n",
      "OllamaEmbeddings: 100%|██████████| 1/1 [00:02<00:00,  2.32s/it]\n"
     ]
    },
    {
     "data": {
      "text/plain": [
       "'Based on the provided document, robotics refers to the field of study and development of robots, which are machines that can be programmed to perform specific tasks. The document provides information about the Robotics Society at NIT Hamirpur, including its history, leadership, ongoing projects, and events.\\n\\nThe document mentions several aspects of robotics, such as:\\n\\n1. History: The society was co-founded by Kashish Verma and the late Lamyanba Heisnam in 2020.\\n2. Mission and Vision: The mission is to develop a strong culture of robotics within the NIT Hamirpur community, while the vision is to be a luminary of the Indian society in the field of robotics.\\n3. Ongoing Projects: Several projects are mentioned, including a vision-based pick and place robotic arm, a robotic hand for people with disabilities, and a robotic arm for object recognition and manipulation.\\n4. Events: The document mentions an upcoming workshop titled \"Robosoc Workshop\" that will introduce first-year students to robotics and provide them with detailed information about the society and its ongoing projects.\\n\\nOverall, the document provides a comprehensive overview of the Robotics Society at NIT Hamirpur and its activities in the field of robotics.'"
      ]
     },
     "execution_count": 15,
     "metadata": {},
     "output_type": "execute_result"
    }
   ],
   "source": [
    "chain.invoke(\"What is robotics?\")"
   ]
  },
  {
   "cell_type": "code",
   "execution_count": 16,
   "metadata": {},
   "outputs": [
    {
     "name": "stderr",
     "output_type": "stream",
     "text": [
      "OllamaEmbeddings: 100%|██████████| 1/1 [00:02<00:00,  2.04s/it]\n",
      "OllamaEmbeddings: 100%|██████████| 1/1 [00:02<00:00,  2.18s/it]\n",
      "OllamaEmbeddings: 100%|██████████| 1/1 [00:02<00:00,  2.17s/it]\n",
      "OllamaEmbeddings: 100%|██████████| 1/1 [00:02<00:00,  2.31s/it]\n",
      "OllamaEmbeddings: 100%|██████████| 1/1 [00:02<00:00,  2.20s/it]\n",
      "OllamaEmbeddings: 100%|██████████| 1/1 [00:02<00:00,  2.16s/it]\n"
     ]
    },
    {
     "data": {
      "text/plain": [
       "'Based on the information provided in the document, the current president of RoboSoc is Aakash Tiwari.'"
      ]
     },
     "execution_count": 16,
     "metadata": {},
     "output_type": "execute_result"
    }
   ],
   "source": [
    "chain.invoke(\"Who is the current president?\")"
   ]
  },
  {
   "cell_type": "code",
   "execution_count": null,
   "metadata": {},
   "outputs": [],
   "source": []
  }
 ],
 "metadata": {
  "kernelspec": {
   "display_name": "Python 3",
   "language": "python",
   "name": "python3"
  },
  "language_info": {
   "codemirror_mode": {
    "name": "ipython",
    "version": 3
   },
   "file_extension": ".py",
   "mimetype": "text/x-python",
   "name": "python",
   "nbconvert_exporter": "python",
   "pygments_lexer": "ipython3",
   "version": "3.12.4"
  }
 },
 "nbformat": 4,
 "nbformat_minor": 2
}
